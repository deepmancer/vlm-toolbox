{
 "cells": [
  {
   "cell_type": "markdown",
   "id": "7795548e",
   "metadata": {},
   "source": [
    "# Imports"
   ]
  },
  {
   "cell_type": "code",
   "execution_count": null,
   "id": "fbc7e716-f7f4-42a8-bdec-0a40a4b2d405",
   "metadata": {
    "scrolled": true
   },
   "outputs": [],
   "source": [
    "import os\n",
    "os.chdir('../../vlm_toolbox/')"
   ]
  },
  {
   "cell_type": "code",
   "execution_count": null,
   "id": "9ec644e8-79c4-41df-9187-7f11e765181c",
   "metadata": {},
   "outputs": [],
   "source": [
    "%load_ext autoreload\n",
    "%reload_ext autoreload\n",
    "%autoreload 2"
   ]
  },
  {
   "cell_type": "code",
   "execution_count": null,
   "id": "3406a0cd",
   "metadata": {
    "scrolled": true
   },
   "outputs": [],
   "source": [
    "import gc\n",
    "import warnings\n",
    "\n",
    "import torch\n",
    "from matplotlib import pyplot as plt\n",
    "\n",
    "from config.enums import ImageDatasets, ModelType, Setups, Trainers\n",
    "from config.setup import Setup\n",
    "from metric.accuracy import AccuracyMetricEvaluator\n",
    "from metric.visualization.accuracy import plot_model_accuracy"
   ]
  },
  {
   "cell_type": "code",
   "execution_count": null,
   "id": "4dba34ca-9591-4c84-a447-d6bb1436b619",
   "metadata": {},
   "outputs": [],
   "source": [
    "os.environ[\"TOKENIZERS_PARALLELISM\"] = \"false\"\n",
    "warnings.filterwarnings('ignore')"
   ]
  },
  {
   "cell_type": "code",
   "execution_count": null,
   "id": "959be6b9-c2be-4f5b-98d7-0722f62c84f6",
   "metadata": {},
   "outputs": [],
   "source": [
    "def flush():\n",
    "    gc.collect()\n",
    "    torch.cuda.empty_cache()"
   ]
  },
  {
   "cell_type": "markdown",
   "id": "fe3c82c9",
   "metadata": {},
   "source": [
    "# Config"
   ]
  },
  {
   "cell_type": "code",
   "execution_count": null,
   "id": "0f9efe36-e661-4612-b7b6-9d3e9dbd2ed8",
   "metadata": {},
   "outputs": [],
   "source": [
    "cols = ['phylum', 'class', 'order', 'family', 'genus', 'specific_epithet']"
   ]
  },
  {
   "cell_type": "code",
   "execution_count": null,
   "id": "26fad01e-9ade-4d8f-bee2-4612595942c3",
   "metadata": {},
   "outputs": [],
   "source": [
    "for i in range(len(cols)):\n",
    "    clip_setup = Setup(\n",
    "        dataset_name=ImageDatasets.INATURALIST,\n",
    "        trainer_name=Trainers.CLIP,\n",
    "        setup_type=Setups.EVAL_ONLY,\n",
    "        label_column_name=cols[i],\n",
    "        annotations_key_value_criteria={'kingdom': ['Animalia']},\n",
    "    )\n",
    "    baseline_coop_setup = Setup(\n",
    "        dataset_name=ImageDatasets.INATURALIST,\n",
    "        trainer_name=Trainers.COOP,\n",
    "        n_shots=16,\n",
    "        setup_type=Setups.EVAL_ONLY,\n",
    "        model_type=ModelType.ZERO_SHOT,\n",
    "        label_column_name=cols[i],\n",
    "        annotations_key_value_criteria={'kingdom': ['Animalia']},\n",
    "        enable_novelty=True,\n",
    "    )\n",
    "    coop_setup = Setup(\n",
    "        dataset_name=ImageDatasets.INATURALIST,\n",
    "        trainer_name=Trainers.COOP,\n",
    "        n_shots=16,\n",
    "        label_column_name=cols[i],\n",
    "        annotations_key_value_criteria={'kingdom': ['Animalia']},\n",
    "        enable_novelty=True,\n",
    "    )\n",
    "    \n",
    "    \n",
    "    clip_metrics = AccuracyMetricEvaluator.load(clip_setup)['overall']\n",
    "    baseline_coop_metrics = AccuracyMetricEvaluator.load(baseline_coop_setup)['overall']\n",
    "    baseline_coop_metrics['trainer_name'] = 'baseline_coop'\n",
    "    coop_metrics = AccuracyMetricEvaluator.load(coop_setup)['overall']\n",
    "    \n",
    "    col_name = clip_setup.get_label_column_name() or 'default'\n",
    "    plot_model_accuracy([clip_metrics, baseline_coop_metrics, coop_metrics], title=f\"Overall Perfmance on the '{col_name}' Column - Dataset: {clip_setup.get_dataset_name()}\")\n",
    "    plt.show()"
   ]
  },
  {
   "cell_type": "code",
   "execution_count": null,
   "id": "2e6a3d42-bcf7-4f69-85e2-3cdce6b75c35",
   "metadata": {},
   "outputs": [],
   "source": []
  },
  {
   "cell_type": "code",
   "execution_count": null,
   "id": "0bc6d5db-8004-41ed-904a-e2dc0cad4073",
   "metadata": {},
   "outputs": [],
   "source": []
  }
 ],
 "metadata": {
  "kernelspec": {
   "display_name": "clip",
   "language": "python",
   "name": "clip"
  },
  "language_info": {
   "codemirror_mode": {
    "name": "ipython",
    "version": 3
   },
   "file_extension": ".py",
   "mimetype": "text/x-python",
   "name": "python",
   "nbconvert_exporter": "python",
   "pygments_lexer": "ipython3",
   "version": "3.9.12"
  }
 },
 "nbformat": 4,
 "nbformat_minor": 5
}
