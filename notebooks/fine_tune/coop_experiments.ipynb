{
 "cells": [
  {
   "cell_type": "markdown",
   "id": "7795548e",
   "metadata": {},
   "source": [
    "# Imports"
   ]
  },
  {
   "cell_type": "code",
   "execution_count": 14,
   "id": "fbc7e716-f7f4-42a8-bdec-0a40a4b2d405",
   "metadata": {
    "scrolled": true
   },
   "outputs": [
    {
     "name": "stdout",
     "output_type": "stream",
     "text": [
      "/home/alireza/vlm_toolbox\n"
     ]
    }
   ],
   "source": [
    "import os\n",
    "os.chdir('../../vlm_toolbox/')"
   ]
  },
  {
   "cell_type": "code",
   "execution_count": 15,
   "id": "9ec644e8-79c4-41df-9187-7f11e765181c",
   "metadata": {},
   "outputs": [],
   "source": [
    "%load_ext autoreload\n",
    "%reload_ext autoreload\n",
    "%autoreload 2"
   ]
  },
  {
   "cell_type": "code",
   "execution_count": 22,
   "id": "3406a0cd",
   "metadata": {
    "scrolled": true
   },
   "outputs": [],
   "source": [
    "import gc\n",
    "\n",
    "import torch\n",
    "\n",
    "from config.enums import (\n",
    "    CLIPBackbones,\n",
    "    ImageDatasets,\n",
    "    ModelType,\n",
    "    PrecisionDtypes,\n",
    "    Setups,\n",
    "    Trainers,\n",
    ")\n",
    "from config.setup import Setup\n",
    "from pipeline.pipeline import Pipeline"
   ]
  },
  {
   "cell_type": "code",
   "execution_count": null,
   "id": "50b1ffe3-976e-4d28-b1f4-0614370f8e3b",
   "metadata": {},
   "outputs": [],
   "source": [
    "os.environ[\"TOKENIZERS_PARALLELISM\"] = \"false\"\n",
    "warnings.filterwarnings('ignore')"
   ]
  },
  {
   "cell_type": "code",
   "execution_count": 20,
   "id": "959be6b9-c2be-4f5b-98d7-0722f62c84f6",
   "metadata": {},
   "outputs": [],
   "source": [
    "def flush():\n",
    "    gc.collect()\n",
    "    torch.cuda.empty_cache()"
   ]
  },
  {
   "cell_type": "markdown",
   "id": "fe3c82c9",
   "metadata": {},
   "source": [
    "# Config"
   ]
  },
  {
   "cell_type": "code",
   "execution_count": 21,
   "id": "59d851f1-c6e5-4938-8426-78de0f3d5fb1",
   "metadata": {},
   "outputs": [
    {
     "data": {
      "text/plain": [
       "device(type='cuda')"
      ]
     },
     "execution_count": 21,
     "metadata": {},
     "output_type": "execute_result"
    }
   ],
   "source": [
    "DEVICE_TYPE = 'cuda' if torch.cuda.is_available() else 'cpu'\n",
    "DEVICE = torch.device(DEVICE_TYPE)\n",
    "DEVICE"
   ]
  },
  {
   "cell_type": "code",
   "execution_count": null,
   "id": "4e00537f-349b-451b-8f0c-59d6678121b5",
   "metadata": {},
   "outputs": [],
   "source": [
    "columns = ['phylum', 'class', 'order', 'family', 'genus', 'specific_epithet', None]\n",
    "\n",
    "for level_col in columns:\n",
    "    setup = Setup(\n",
    "        dataset_name=ImageDatasets.INATURALIST,\n",
    "        backbone_name=CLIPBackbones.CLIP_VIT_B_16,\n",
    "        trainer_name=Trainers.COOP,\n",
    "        setup_type=Setups.FULL,\n",
    "        model_type=ModelType.FEW_SHOT,\n",
    "        num_epochs=200,\n",
    "        n_shots=16,\n",
    "        validation_size=0.15,\n",
    "        label_column_name=level_col,\n",
    "        annotations_key_value_criteria={'kingdom': ['Animalia']},\n",
    "        precision_dtype=PrecisionDtypes.FP16,\n",
    "        enable_novelty=True,\n",
    "    )\n",
    "    pipeline = Pipeline(setup, device_type=DEVICE_TYPE)\n",
    "    pipeline.run()\n",
    "    pipeline.tear_down()\n",
    "    del pipeline\n",
    "    del setup\n",
    "    flush()"
   ]
  },
  {
   "cell_type": "code",
   "execution_count": null,
   "id": "92753d31-3e73-4ae0-9b48-5822560d38d6",
   "metadata": {},
   "outputs": [],
   "source": []
  },
  {
   "cell_type": "code",
   "execution_count": 6,
   "id": "20de90ea",
   "metadata": {},
   "outputs": [
    {
     "data": {
      "text/plain": [
       "device(type='cuda')"
      ]
     },
     "execution_count": 6,
     "metadata": {},
     "output_type": "execute_result"
    }
   ],
   "source": []
  }
 ],
 "metadata": {
  "kernelspec": {
   "display_name": "clip",
   "language": "python",
   "name": "clip"
  },
  "language_info": {
   "codemirror_mode": {
    "name": "ipython",
    "version": 3
   },
   "file_extension": ".py",
   "mimetype": "text/x-python",
   "name": "python",
   "nbconvert_exporter": "python",
   "pygments_lexer": "ipython3",
   "version": "3.9.12"
  }
 },
 "nbformat": 4,
 "nbformat_minor": 5
}
