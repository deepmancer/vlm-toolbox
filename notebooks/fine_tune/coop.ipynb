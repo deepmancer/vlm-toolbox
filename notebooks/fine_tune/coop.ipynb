{
 "cells": [
  {
   "cell_type": "markdown",
   "id": "7795548e",
   "metadata": {},
   "source": [
    "# Imports"
   ]
  },
  {
   "cell_type": "code",
   "execution_count": null,
   "id": "fbc7e716-f7f4-42a8-bdec-0a40a4b2d405",
   "metadata": {
    "scrolled": true
   },
   "outputs": [],
   "source": [
    "import os\n",
    "    \n",
    "os.chdir('../../vlm_toolbox')"
   ]
  },
  {
   "cell_type": "code",
   "execution_count": null,
   "id": "9ec644e8-79c4-41df-9187-7f11e765181c",
   "metadata": {},
   "outputs": [],
   "source": [
    "%load_ext autoreload\n",
    "%reload_ext autoreload\n",
    "%autoreload 2"
   ]
  },
  {
   "cell_type": "code",
   "execution_count": null,
   "id": "3406a0cd",
   "metadata": {
    "scrolled": true
   },
   "outputs": [],
   "source": [
    "import os\n",
    "import pandas as pd\n",
    "import numpy as np\n",
    "import torch\n",
    "import warnings\n",
    "from matplotlib import pyplot as plt\n",
    "\n",
    "from config.enums import (\n",
    "    CLIPBackbones,\n",
    "    ImageDatasets,\n",
    "    LossType,\n",
    "    ModelType,\n",
    "    Stages,\n",
    "    PrecisionDtypes,\n",
    "    Setups,\n",
    "    Metrics,\n",
    "    Trainers,\n",
    "    SamplingStrategy,\n",
    "    SamplingType,\n",
    ")\n",
    "from config.logging import LoggerFactory\n",
    "from config.setup import Setup\n",
    "from metric.visualization.accuracy import plot_model_accuracy\n",
    "from pipeline.pipeline import Pipeline"
   ]
  },
  {
   "cell_type": "code",
   "execution_count": null,
   "id": "7d5fc2d6-aad8-47a1-91e4-c5d630aae75c",
   "metadata": {},
   "outputs": [],
   "source": [
    "os.environ[\"TOKENIZERS_PARALLELISM\"] = \"false\"\n",
    "warnings.filterwarnings('ignore')"
   ]
  },
  {
   "cell_type": "markdown",
   "id": "fe3c82c9",
   "metadata": {},
   "source": [
    "# Config"
   ]
  },
  {
   "cell_type": "code",
   "execution_count": null,
   "id": "549744f1-a7b2-48c2-bbc8-111f65384093",
   "metadata": {},
   "outputs": [],
   "source": [
    "logger = LoggerFactory.create_logger(\"coop_finetuning_logger\", notebook=False)"
   ]
  },
  {
   "cell_type": "code",
   "execution_count": null,
   "id": "532c9709-cd43-47f8-bee3-e5f932631866",
   "metadata": {},
   "outputs": [],
   "source": [
    "Setup.list_available_experiment_results()"
   ]
  },
  {
   "cell_type": "code",
   "execution_count": null,
   "id": "13028e23-f756-48c6-9e53-8d686771958f",
   "metadata": {},
   "outputs": [],
   "source": [
    "setup = Setup(\n",
    "    dataset_name=ImageDatasets.IMAGENET_1K,\n",
    "    backbone_name=CLIPBackbones.CLIP_VIT_B_16,\n",
    "    trainer_name=Trainers.COOP,\n",
    "    model_type=ModelType.FEW_SHOT,\n",
    "    setup_type=Setups.FULL,\n",
    "    num_epochs=200,\n",
    "    # train_split=Stages.EVAL,\n",
    "    train_batch_size=128,\n",
    "    eval_batch_size=1024,\n",
    "    validation_size=0.15,\n",
    "    label_column_name='coarse',\n",
    "    n_shots=1,\n",
    "    top_k=np.inf,\n",
    "    precision_dtype=PrecisionDtypes.FP16,\n",
    "    sampling_type=SamplingType.UNDER_SAMPLING,\n",
    "    sampling_strategy=SamplingStrategy.RANDOM_UNDER_SAMPLING,\n",
    "    # load_from_checkpoint=True,\n",
    "    # loss_type=LossType.ENLARGED_LARGE_MARGIN_LOSS,\n",
    "    # coarse_column_name='coarse',\n",
    "    # enable_novelty=True,\n",
    "    # top_k=67,\n",
    ")\n",
    "setup.get_relative_save_path()"
   ]
  },
  {
   "cell_type": "markdown",
   "id": "ce97a899-19c7-4e00-ad98-190f77e33e23",
   "metadata": {},
   "source": [
    "### Device"
   ]
  },
  {
   "cell_type": "code",
   "execution_count": null,
   "id": "20de90ea",
   "metadata": {},
   "outputs": [],
   "source": [
    "DEVICE_TYPE = 'cuda' if torch.cuda.is_available() else 'cpu'\n",
    "DEVICE = torch.device(DEVICE_TYPE)\n",
    "DEVICE"
   ]
  },
  {
   "cell_type": "markdown",
   "id": "07d3d703-df66-4352-9820-e05ddd70b8e5",
   "metadata": {},
   "source": [
    "# Evaluation"
   ]
  },
  {
   "cell_type": "code",
   "execution_count": null,
   "id": "c2fccd7d-f1ca-41f7-9aee-bbde63b42f04",
   "metadata": {},
   "outputs": [],
   "source": [
    "pipeline = Pipeline(setup, device_type=DEVICE_TYPE, logger=logger)"
   ]
  },
  {
   "cell_type": "code",
   "execution_count": null,
   "id": "a27ee579-0c58-4f47-ad68-dc050b305703",
   "metadata": {},
   "outputs": [],
   "source": [
    "pipeline.setup_data()"
   ]
  },
  {
   "cell_type": "code",
   "execution_count": null,
   "id": "fda859b5",
   "metadata": {},
   "outputs": [],
   "source": [
    "print(str(pipeline.model))"
   ]
  },
  {
   "cell_type": "code",
   "execution_count": null,
   "id": "46798f06-4e4d-430b-b2d0-58a2e4434d71",
   "metadata": {},
   "outputs": [],
   "source": [
    "pipeline.setup_model()"
   ]
  },
  {
   "cell_type": "code",
   "execution_count": null,
   "id": "80021168",
   "metadata": {},
   "outputs": [],
   "source": [
    "pipeline.setup.set_num_epochs(5)"
   ]
  },
  {
   "cell_type": "code",
   "execution_count": null,
   "id": "c5ab441f-d4eb-448f-977e-6d6c5a3e1f25",
   "metadata": {
    "scrolled": true
   },
   "outputs": [],
   "source": [
    "pipeline.train(collate_all_m2_samples=True)"
   ]
  },
  {
   "cell_type": "code",
   "execution_count": null,
   "id": "3acf0483-337d-464e-b521-b25f23d3e111",
   "metadata": {},
   "outputs": [],
   "source": [
    "pipeline.evaluate()"
   ]
  },
  {
   "cell_type": "code",
   "execution_count": null,
   "id": "0bd06e53-2bb1-4cf9-8bc9-a3b7b2814889",
   "metadata": {},
   "outputs": [],
   "source": [
    "saved_dirs_dict = pipeline.save(\n",
    "    save_predictions=True,\n",
    ")\n",
    "print(saved_dirs_dict)"
   ]
  },
  {
   "cell_type": "code",
   "execution_count": null,
   "id": "26fad01e-9ade-4d8f-bee2-4612595942c3",
   "metadata": {},
   "outputs": [],
   "source": [
    "main_metric_df = pipeline.get_metrics()\n",
    "plot_model_accuracy(main_metric_df, top_k=5)\n",
    "plt.show()"
   ]
  },
  {
   "cell_type": "code",
   "execution_count": null,
   "id": "73140dbe",
   "metadata": {},
   "outputs": [],
   "source": []
  }
 ],
 "metadata": {
  "kernelspec": {
   "display_name": "Python 3",
   "language": "python",
   "name": "python3"
  },
  "language_info": {
   "codemirror_mode": {
    "name": "ipython",
    "version": 3
   },
   "file_extension": ".py",
   "mimetype": "text/x-python",
   "name": "python",
   "nbconvert_exporter": "python",
   "pygments_lexer": "ipython3",
   "version": "3.9.12"
  }
 },
 "nbformat": 4,
 "nbformat_minor": 5
}
